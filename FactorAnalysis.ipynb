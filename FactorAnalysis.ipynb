{
  "nbformat": 4,
  "nbformat_minor": 0,
  "metadata": {
    "colab": {
      "name": "FactorAnalysis.ipynb",
      "provenance": [],
      "collapsed_sections": [],
      "toc_visible": true,
      "include_colab_link": true
    },
    "kernelspec": {
      "name": "python3",
      "display_name": "Python 3"
    }
  },
  "cells": [
    {
      "cell_type": "markdown",
      "metadata": {
        "id": "view-in-github",
        "colab_type": "text"
      },
      "source": [
        "<a href=\"https://colab.research.google.com/github/rkn2/factorAnalysisExample/blob/master/FactorAnalysis.ipynb\" target=\"_parent\"><img src=\"https://colab.research.google.com/assets/colab-badge.svg\" alt=\"Open In Colab\"/></a>"
      ]
    },
    {
      "cell_type": "markdown",
      "metadata": {
        "id": "60YyXAwxgeo6",
        "colab_type": "text"
      },
      "source": [
        "# Background on the problem\n"
      ]
    },
    {
      "cell_type": "markdown",
      "metadata": {
        "id": "QZkl03-xlDMc",
        "colab_type": "text"
      },
      "source": [
        "A wall in a building next to a river is deteriorating. What is causing it?\n",
        "\n",
        "Below find an image of how the wall is situated in the building, where doors are, and where current sensors are located. \n",
        "\n",
        "**Your job is to look at the data coming from the sensors, and figure out what they are telling you.**"
      ]
    },
    {
      "cell_type": "markdown",
      "metadata": {
        "id": "sXxYuxEzgk5T",
        "colab_type": "text"
      },
      "source": [
        "![alt text](https://drive.google.com/uc?id=1TWhPuLFF7pNcXlycMDmdDWlFxWQJq3DQ)\n",
        "\n"
      ]
    },
    {
      "cell_type": "markdown",
      "metadata": {
        "id": "nYeZzHCmllHU",
        "colab_type": "text"
      },
      "source": [
        "# Pre-processing our data\n"
      ]
    },
    {
      "cell_type": "markdown",
      "metadata": {
        "id": "dkYopb1bx4G7",
        "colab_type": "text"
      },
      "source": [
        "## Loading the data"
      ]
    },
    {
      "cell_type": "markdown",
      "metadata": {
        "id": "bANTW6kuUClT",
        "colab_type": "text"
      },
      "source": [
        "This step just installs any packages we will need to run the analysis code. You don't have to worry about any specifics here."
      ]
    },
    {
      "cell_type": "code",
      "metadata": {
        "id": "tP4cR7ZrSuLc",
        "colab_type": "code",
        "outputId": "a7511d7a-e5ea-4921-e015-2963b423a920",
        "colab": {
          "base_uri": "https://localhost:8080/",
          "height": 207
        }
      },
      "source": [
        "# Import required libraries\n",
        "import pandas as pd\n",
        "from sklearn.datasets import load_iris\n",
        "#!pip install factor_analyzer\n",
        "!pip install factor_analyzer==0.2.3\n",
        "from factor_analyzer import FactorAnalyzer\n",
        "import matplotlib.pyplot as plt\n",
        "import numpy as np\n",
        "\n",
        "\n",
        "!pip install -U -q PyDrive\n",
        "from pydrive.auth import GoogleAuth\n",
        "from pydrive.drive import GoogleDrive\n",
        "from google.colab import auth\n",
        "from oauth2client.client import GoogleCredentials\n",
        "# Authenticate and create the PyDrive client.\n",
        "auth.authenticate_user()\n",
        "gauth = GoogleAuth()\n",
        "gauth.credentials = GoogleCredentials.get_application_default()\n",
        "drive = GoogleDrive(gauth)"
      ],
      "execution_count": 1,
      "outputs": [
        {
          "output_type": "stream",
          "text": [
            "Collecting factor_analyzer==0.2.3\n",
            "  Downloading https://files.pythonhosted.org/packages/79/1b/84808bbeee0f3a8753c3d8034baf0aa0013cf08957eff750f366ce83f04a/factor_analyzer-0.2.3-py2.py3-none-any.whl\n",
            "Requirement already satisfied: scipy in /usr/local/lib/python3.6/dist-packages (from factor_analyzer==0.2.3) (1.3.1)\n",
            "Requirement already satisfied: numpy in /usr/local/lib/python3.6/dist-packages (from factor_analyzer==0.2.3) (1.16.5)\n",
            "Requirement already satisfied: pandas in /usr/local/lib/python3.6/dist-packages (from factor_analyzer==0.2.3) (0.24.2)\n",
            "Requirement already satisfied: pytz>=2011k in /usr/local/lib/python3.6/dist-packages (from pandas->factor_analyzer==0.2.3) (2018.9)\n",
            "Requirement already satisfied: python-dateutil>=2.5.0 in /usr/local/lib/python3.6/dist-packages (from pandas->factor_analyzer==0.2.3) (2.5.3)\n",
            "Requirement already satisfied: six>=1.5 in /usr/local/lib/python3.6/dist-packages (from python-dateutil>=2.5.0->pandas->factor_analyzer==0.2.3) (1.12.0)\n",
            "Installing collected packages: factor-analyzer\n",
            "Successfully installed factor-analyzer-0.2.3\n"
          ],
          "name": "stdout"
        }
      ]
    },
    {
      "cell_type": "markdown",
      "metadata": {
        "id": "i5os7BeoT8zV",
        "colab_type": "text"
      },
      "source": [
        "Now we will load the data. This line reads in the comma separated value sheet that I made in excel.\n",
        "\n",
        "If you are given sensor data in excel and want to export it to csv in the future, see this link:\n",
        "https://www.ablebits.com/office-addins-blog/2014/04/24/convert-excel-csv/"
      ]
    },
    {
      "cell_type": "code",
      "metadata": {
        "colab_type": "code",
        "id": "kX8bxB9mpiYp",
        "colab": {}
      },
      "source": [
        "url = 'https://raw.githubusercontent.com/rkn2/factorAnalysisExample/master/testDataSmall.csv' #you can change this link depending on your data\n",
        "df = pd.read_csv(url)\n",
        "#df= pd.read_csv(\"testDataSmall.csv\") # you can also just upload data using the interface on the left and use this reader here."
      ],
      "execution_count": 0,
      "outputs": []
    },
    {
      "cell_type": "markdown",
      "metadata": {
        "id": "r_MFE9oIs5KZ",
        "colab_type": "text"
      },
      "source": [
        "## Cleaning the data"
      ]
    },
    {
      "cell_type": "markdown",
      "metadata": {
        "id": "ed6U4YqqVfvn",
        "colab_type": "text"
      },
      "source": [
        "Now we can start to process our data and remove any columns we don't want. We don't need the 'true ground water' 'wind driven rain' 'corSet', or 'notCor' columns since those were only needed to generate the synthetic data.\n",
        "\n",
        "Additionally, we want to remove anywhere that there is missing data."
      ]
    },
    {
      "cell_type": "code",
      "metadata": {
        "id": "cbE21AiDU_5L",
        "colab_type": "code",
        "outputId": "e09a408f-a71c-4a5b-9467-6f991729ce61",
        "colab": {
          "base_uri": "https://localhost:8080/",
          "height": 527
        }
      },
      "source": [
        "#index columns\n",
        "df.columns\n",
        "\n",
        "#drop unnecessary columns\n",
        "unnecessaryColumns = ['corSet', 'notCor', 'true ground water', 'wind driven rain'] #this list is the only thing you would need to change\n",
        "df.drop(unnecessaryColumns,axis=1,inplace=True) \n",
        "\n",
        "#drop any missing value rows\n",
        "df.dropna(inplace=True)\n",
        "\n",
        "#view information if you want\n",
        "df.info()\n",
        "#df.head()\n",
        "\n",
        "#calcualte the number of variables\n",
        "numVars = df.shape[1]-len(unnecessaryColumns)\n"
      ],
      "execution_count": 26,
      "outputs": [
        {
          "output_type": "stream",
          "text": [
            "<class 'pandas.core.frame.DataFrame'>\n",
            "Int64Index: 125 entries, 0 to 124\n",
            "Data columns (total 25 columns):\n",
            "water pH 1                  125 non-null float64\n",
            "water pH 2                  125 non-null float64\n",
            "ground water level 1        125 non-null float64\n",
            "ground water level 2        125 non-null float64\n",
            "soil moisture 1             125 non-null float64\n",
            "soil moisture 2             125 non-null float64\n",
            "soil moisture 3             125 non-null float64\n",
            "motor monitor 1             125 non-null float64\n",
            "motor monitor 2             125 non-null float64\n",
            "salinity I                  125 non-null float64\n",
            "salinity E                  125 non-null float64\n",
            "air RH I                    125 non-null float64\n",
            "air RH E                    125 non-null float64\n",
            "air temp I                  125 non-null float64\n",
            "air temp E                  125 non-null float64\n",
            "wall RH 1 I                 125 non-null float64\n",
            "wall RH 2 I                 125 non-null float64\n",
            "wall RH 3 I                 125 non-null float64\n",
            "wall RH 1 E                 125 non-null float64\n",
            "wall RH 2 E                 125 non-null float64\n",
            "wall RH 3 E                 125 non-null float64\n",
            "rain intensity              125 non-null float64\n",
            "rain duration               125 non-null float64\n",
            "wind speed                  125 non-null float64\n",
            "wind direction (radians)    125 non-null float64\n",
            "dtypes: float64(25)\n",
            "memory usage: 25.4 KB\n"
          ],
          "name": "stdout"
        }
      ]
    },
    {
      "cell_type": "markdown",
      "metadata": {
        "id": "gn7I2_5StNZ1",
        "colab_type": "text"
      },
      "source": [
        "# Check that factor analysis applies\n"
      ]
    },
    {
      "cell_type": "markdown",
      "metadata": {
        "id": "dDVz8CyFWwh5",
        "colab_type": "text"
      },
      "source": [
        "Factor analysis code based on: https://www.datacamp.com/community/tutorials/introduction-factor-analysis"
      ]
    },
    {
      "cell_type": "markdown",
      "metadata": {
        "id": "fPO4G7tHyBbg",
        "colab_type": "text"
      },
      "source": [
        "## Bartlett's test"
      ]
    },
    {
      "cell_type": "markdown",
      "metadata": {
        "id": "NrqV1ZNGWIc7",
        "colab_type": "text"
      },
      "source": [
        "\n",
        "\n",
        "The first way we can do this is using *bartlett's test* which checks whether the data is *statistically significant* by checking whether or not the observed variabels intercorrelate at all using the observed correlation matrix against the identity matrix. If the test is found statistically insignificant, you should not use factor analysis. "
      ]
    },
    {
      "cell_type": "code",
      "metadata": {
        "id": "aXtTewA1WHwR",
        "colab_type": "code",
        "outputId": "2a3504c5-27b0-4eb5-90af-ffa07f6fa586",
        "colab": {
          "base_uri": "https://localhost:8080/",
          "height": 34
        }
      },
      "source": [
        "#this is not something you need to change\n",
        "from factor_analyzer.factor_analyzer import calculate_bartlett_sphericity\n",
        "chi_square_value,p_value=calculate_bartlett_sphericity(df)\n",
        "chi_square_value, p_value"
      ],
      "execution_count": 27,
      "outputs": [
        {
          "output_type": "execute_result",
          "data": {
            "text/plain": [
              "(2408.015065762507, 0.0)"
            ]
          },
          "metadata": {
            "tags": []
          },
          "execution_count": 27
        }
      ]
    },
    {
      "cell_type": "markdown",
      "metadata": {
        "id": "HdtI64_7WuSW",
        "colab_type": "text"
      },
      "source": [
        "In this Bartlett ’s test, the p-value is 0. The test was statistically significant, indicating that the observed correlation matrix is not an identity matrix."
      ]
    },
    {
      "cell_type": "markdown",
      "metadata": {
        "id": "p0IHvEg4yE9V",
        "colab_type": "text"
      },
      "source": [
        "## Kaiser-Meyer-Olkin test"
      ]
    },
    {
      "cell_type": "markdown",
      "metadata": {
        "id": "jOOzLoLEWohJ",
        "colab_type": "text"
      },
      "source": [
        "The second step we can do is the *Kaiser-Meyer-Olkin (KMO*) Test which measures the *suitability of data for factor analysis*. It determines the adequacy for each observed variable and for the complete model. KMO estimates the proportion of variance among all the observed variable. Lower proportion id more suitable for factor analysis. KMO values range between 0 and 1. Value of KMO less than 0.6 is considered inadequate."
      ]
    },
    {
      "cell_type": "code",
      "metadata": {
        "id": "gJbu2WwCXBa0",
        "colab_type": "code",
        "outputId": "2acae92c-439c-4cf8-cc0f-46d8dd0fd297",
        "colab": {
          "base_uri": "https://localhost:8080/",
          "height": 34
        }
      },
      "source": [
        "#this is not something you need to change\n",
        "from factor_analyzer.factor_analyzer import calculate_kmo\n",
        "kmo_all,kmo_model=calculate_kmo(df)\n",
        "\n",
        "kmo_model"
      ],
      "execution_count": 28,
      "outputs": [
        {
          "output_type": "execute_result",
          "data": {
            "text/plain": [
              "0.794519644398728"
            ]
          },
          "metadata": {
            "tags": []
          },
          "execution_count": 28
        }
      ]
    },
    {
      "cell_type": "markdown",
      "metadata": {
        "id": "ZK-I2yJrXEgB",
        "colab_type": "text"
      },
      "source": [
        "The overall KMO for our data is 0.79, which is excellent. This value indicates that you can proceed with your planned factor analysis."
      ]
    },
    {
      "cell_type": "markdown",
      "metadata": {
        "id": "QmEB220wyL85",
        "colab_type": "text"
      },
      "source": [
        "# Applying factor analysis"
      ]
    },
    {
      "cell_type": "markdown",
      "metadata": {
        "id": "KuLv3yjyyPWr",
        "colab_type": "text"
      },
      "source": [
        "## Choosing the number of factors"
      ]
    },
    {
      "cell_type": "markdown",
      "metadata": {
        "id": "mtR0FtQGXHRA",
        "colab_type": "text"
      },
      "source": [
        "Now we need to choose the number of factors. For this, we can use the Kaiser criterion and scree plot. Both are based on eigen values. "
      ]
    },
    {
      "cell_type": "code",
      "metadata": {
        "id": "Z6zPLCYTXNgL",
        "colab_type": "code",
        "outputId": "8e49488c-93c1-4648-e5cc-f4bac068d63e",
        "colab": {
          "base_uri": "https://localhost:8080/",
          "height": 824
        }
      },
      "source": [
        "# Create factor analysis object and perform factor analysis\n",
        "fa = FactorAnalyzer()\n",
        "fa.analyze(df, numVars, rotation=None) \n",
        "# Check Eigenvalues\n",
        "ev, v = fa.get_eigenvalues()\n",
        "ev"
      ],
      "execution_count": 29,
      "outputs": [
        {
          "output_type": "execute_result",
          "data": {
            "text/html": [
              "<div>\n",
              "<style scoped>\n",
              "    .dataframe tbody tr th:only-of-type {\n",
              "        vertical-align: middle;\n",
              "    }\n",
              "\n",
              "    .dataframe tbody tr th {\n",
              "        vertical-align: top;\n",
              "    }\n",
              "\n",
              "    .dataframe thead th {\n",
              "        text-align: right;\n",
              "    }\n",
              "</style>\n",
              "<table border=\"1\" class=\"dataframe\">\n",
              "  <thead>\n",
              "    <tr style=\"text-align: right;\">\n",
              "      <th></th>\n",
              "      <th>Original_Eigenvalues</th>\n",
              "    </tr>\n",
              "  </thead>\n",
              "  <tbody>\n",
              "    <tr>\n",
              "      <th>0</th>\n",
              "      <td>5.952378</td>\n",
              "    </tr>\n",
              "    <tr>\n",
              "      <th>1</th>\n",
              "      <td>3.157398</td>\n",
              "    </tr>\n",
              "    <tr>\n",
              "      <th>2</th>\n",
              "      <td>1.804729</td>\n",
              "    </tr>\n",
              "    <tr>\n",
              "      <th>3</th>\n",
              "      <td>1.637225</td>\n",
              "    </tr>\n",
              "    <tr>\n",
              "      <th>4</th>\n",
              "      <td>1.390228</td>\n",
              "    </tr>\n",
              "    <tr>\n",
              "      <th>5</th>\n",
              "      <td>1.266333</td>\n",
              "    </tr>\n",
              "    <tr>\n",
              "      <th>6</th>\n",
              "      <td>1.162993</td>\n",
              "    </tr>\n",
              "    <tr>\n",
              "      <th>7</th>\n",
              "      <td>1.092643</td>\n",
              "    </tr>\n",
              "    <tr>\n",
              "      <th>8</th>\n",
              "      <td>1.043082</td>\n",
              "    </tr>\n",
              "    <tr>\n",
              "      <th>9</th>\n",
              "      <td>1.004171</td>\n",
              "    </tr>\n",
              "    <tr>\n",
              "      <th>10</th>\n",
              "      <td>0.920566</td>\n",
              "    </tr>\n",
              "    <tr>\n",
              "      <th>11</th>\n",
              "      <td>0.827604</td>\n",
              "    </tr>\n",
              "    <tr>\n",
              "      <th>12</th>\n",
              "      <td>0.725411</td>\n",
              "    </tr>\n",
              "    <tr>\n",
              "      <th>13</th>\n",
              "      <td>0.632156</td>\n",
              "    </tr>\n",
              "    <tr>\n",
              "      <th>14</th>\n",
              "      <td>0.595860</td>\n",
              "    </tr>\n",
              "    <tr>\n",
              "      <th>15</th>\n",
              "      <td>0.481387</td>\n",
              "    </tr>\n",
              "    <tr>\n",
              "      <th>16</th>\n",
              "      <td>0.412096</td>\n",
              "    </tr>\n",
              "    <tr>\n",
              "      <th>17</th>\n",
              "      <td>0.288582</td>\n",
              "    </tr>\n",
              "    <tr>\n",
              "      <th>18</th>\n",
              "      <td>0.222748</td>\n",
              "    </tr>\n",
              "    <tr>\n",
              "      <th>19</th>\n",
              "      <td>0.191830</td>\n",
              "    </tr>\n",
              "    <tr>\n",
              "      <th>20</th>\n",
              "      <td>0.118418</td>\n",
              "    </tr>\n",
              "    <tr>\n",
              "      <th>21</th>\n",
              "      <td>0.021652</td>\n",
              "    </tr>\n",
              "    <tr>\n",
              "      <th>22</th>\n",
              "      <td>0.019398</td>\n",
              "    </tr>\n",
              "    <tr>\n",
              "      <th>23</th>\n",
              "      <td>0.017750</td>\n",
              "    </tr>\n",
              "    <tr>\n",
              "      <th>24</th>\n",
              "      <td>0.013361</td>\n",
              "    </tr>\n",
              "  </tbody>\n",
              "</table>\n",
              "</div>"
            ],
            "text/plain": [
              "    Original_Eigenvalues\n",
              "0               5.952378\n",
              "1               3.157398\n",
              "2               1.804729\n",
              "3               1.637225\n",
              "4               1.390228\n",
              "5               1.266333\n",
              "6               1.162993\n",
              "7               1.092643\n",
              "8               1.043082\n",
              "9               1.004171\n",
              "10              0.920566\n",
              "11              0.827604\n",
              "12              0.725411\n",
              "13              0.632156\n",
              "14              0.595860\n",
              "15              0.481387\n",
              "16              0.412096\n",
              "17              0.288582\n",
              "18              0.222748\n",
              "19              0.191830\n",
              "20              0.118418\n",
              "21              0.021652\n",
              "22              0.019398\n",
              "23              0.017750\n",
              "24              0.013361"
            ]
          },
          "metadata": {
            "tags": []
          },
          "execution_count": 29
        }
      ]
    },
    {
      "cell_type": "markdown",
      "metadata": {
        "id": "AYqhbUM5XQLR",
        "colab_type": "text"
      },
      "source": [
        "Here, you can see only for 10-factors eigenvalues are greater than one. It means we need to choose only 10 factors (or unobserved variables). But this is only a first step metric, next we can generate a Scree plot to see which of those 10 are really distinct from the pack."
      ]
    },
    {
      "cell_type": "code",
      "metadata": {
        "id": "8EcInPmvXS4E",
        "colab_type": "code",
        "outputId": "fcf80af1-9ab0-42f6-f3ea-b017d8d7d045",
        "colab": {
          "base_uri": "https://localhost:8080/",
          "height": 295
        }
      },
      "source": [
        "# Create scree plot using matplotlib\n",
        "plt.scatter(range(1,df.shape[1]+1),ev)\n",
        "plt.plot(range(1,df.shape[1]+1),ev)\n",
        "plt.title('Scree Plot')\n",
        "plt.xlabel('Factors')\n",
        "plt.ylabel('Eigenvalue')\n",
        "plt.grid()\n",
        "plt.show()"
      ],
      "execution_count": 30,
      "outputs": [
        {
          "output_type": "display_data",
          "data": {
            "image/png": "[encoded data removed]",
            "text/plain": [
              "<Figure size 432x288 with 1 Axes>"
            ]
          },
          "metadata": {
            "tags": []
          }
        }
      ]
    },
    {
      "cell_type": "markdown",
      "metadata": {
        "id": "9AmVXMkJXTdi",
        "colab_type": "text"
      },
      "source": [
        "The scree plot method draws a straight line for each factor and its eigenvalues. Number eigenvalues greater than one considered as the number of factors.\n",
        "\n",
        "Here, you can see again 10-factors eigenvalues are greater than one. It means we need to choose only 10 factors (or unobserved variables).\n",
        "\n",
        "However something we can additionally, see is that after the first two, there really isnt a diffence in the eigenvalues. So really only the first two are significant. Therefore we will only choose **two factors**."
      ]
    },
    {
      "cell_type": "markdown",
      "metadata": {
        "id": "rP0mIgpSyt6j",
        "colab_type": "text"
      },
      "source": [
        "## Running factor analysis\n",
        "\n"
      ]
    },
    {
      "cell_type": "code",
      "metadata": {
        "id": "es4vNDC1XYdW",
        "colab_type": "code",
        "outputId": "5dd2ef4c-8ce1-40e4-802f-3bc46651a37f",
        "colab": {
          "base_uri": "https://localhost:8080/",
          "height": 824
        }
      },
      "source": [
        "# Create factor analysis object and perform factor analysis\n",
        "fa = FactorAnalyzer()\n",
        "numFactors = 2 # this will vary based on what you saw above\n",
        "fa.analyze(df, numFactors, rotation=\"varimax\")\n",
        "fa.loadings"
      ],
      "execution_count": 31,
      "outputs": [
        {
          "output_type": "execute_result",
          "data": {
            "text/html": [
              "<div>\n",
              "<style scoped>\n",
              "    .dataframe tbody tr th:only-of-type {\n",
              "        vertical-align: middle;\n",
              "    }\n",
              "\n",
              "    .dataframe tbody tr th {\n",
              "        vertical-align: top;\n",
              "    }\n",
              "\n",
              "    .dataframe thead th {\n",
              "        text-align: right;\n",
              "    }\n",
              "</style>\n",
              "<table border=\"1\" class=\"dataframe\">\n",
              "  <thead>\n",
              "    <tr style=\"text-align: right;\">\n",
              "      <th></th>\n",
              "      <th>Factor1</th>\n",
              "      <th>Factor2</th>\n",
              "    </tr>\n",
              "  </thead>\n",
              "  <tbody>\n",
              "    <tr>\n",
              "      <th>water pH 1</th>\n",
              "      <td>0.119985</td>\n",
              "      <td>-0.021944</td>\n",
              "    </tr>\n",
              "    <tr>\n",
              "      <th>water pH 2</th>\n",
              "      <td>0.044566</td>\n",
              "      <td>0.000270</td>\n",
              "    </tr>\n",
              "    <tr>\n",
              "      <th>ground water level 1</th>\n",
              "      <td>0.799025</td>\n",
              "      <td>-0.094661</td>\n",
              "    </tr>\n",
              "    <tr>\n",
              "      <th>ground water level 2</th>\n",
              "      <td>-0.044711</td>\n",
              "      <td>0.022975</td>\n",
              "    </tr>\n",
              "    <tr>\n",
              "      <th>soil moisture 1</th>\n",
              "      <td>0.975765</td>\n",
              "      <td>-0.099547</td>\n",
              "    </tr>\n",
              "    <tr>\n",
              "      <th>soil moisture 2</th>\n",
              "      <td>0.987725</td>\n",
              "      <td>-0.085610</td>\n",
              "    </tr>\n",
              "    <tr>\n",
              "      <th>soil moisture 3</th>\n",
              "      <td>0.993876</td>\n",
              "      <td>-0.086575</td>\n",
              "    </tr>\n",
              "    <tr>\n",
              "      <th>motor monitor 1</th>\n",
              "      <td>0.155475</td>\n",
              "      <td>0.133223</td>\n",
              "    </tr>\n",
              "    <tr>\n",
              "      <th>motor monitor 2</th>\n",
              "      <td>0.052529</td>\n",
              "      <td>-0.083869</td>\n",
              "    </tr>\n",
              "    <tr>\n",
              "      <th>salinity I</th>\n",
              "      <td>-0.041657</td>\n",
              "      <td>0.030068</td>\n",
              "    </tr>\n",
              "    <tr>\n",
              "      <th>salinity E</th>\n",
              "      <td>0.101357</td>\n",
              "      <td>-0.130272</td>\n",
              "    </tr>\n",
              "    <tr>\n",
              "      <th>air RH I</th>\n",
              "      <td>0.103788</td>\n",
              "      <td>-0.033804</td>\n",
              "    </tr>\n",
              "    <tr>\n",
              "      <th>air RH E</th>\n",
              "      <td>-0.041323</td>\n",
              "      <td>0.001375</td>\n",
              "    </tr>\n",
              "    <tr>\n",
              "      <th>air temp I</th>\n",
              "      <td>0.033716</td>\n",
              "      <td>-0.124489</td>\n",
              "    </tr>\n",
              "    <tr>\n",
              "      <th>air temp E</th>\n",
              "      <td>-0.142752</td>\n",
              "      <td>0.004564</td>\n",
              "    </tr>\n",
              "    <tr>\n",
              "      <th>wall RH 1 I</th>\n",
              "      <td>0.887812</td>\n",
              "      <td>0.014285</td>\n",
              "    </tr>\n",
              "    <tr>\n",
              "      <th>wall RH 2 I</th>\n",
              "      <td>0.863680</td>\n",
              "      <td>-0.062129</td>\n",
              "    </tr>\n",
              "    <tr>\n",
              "      <th>wall RH 3 I</th>\n",
              "      <td>-0.028089</td>\n",
              "      <td>0.107985</td>\n",
              "    </tr>\n",
              "    <tr>\n",
              "      <th>wall RH 1 E</th>\n",
              "      <td>0.507402</td>\n",
              "      <td>0.828640</td>\n",
              "    </tr>\n",
              "    <tr>\n",
              "      <th>wall RH 2 E</th>\n",
              "      <td>0.515331</td>\n",
              "      <td>0.827161</td>\n",
              "    </tr>\n",
              "    <tr>\n",
              "      <th>wall RH 3 E</th>\n",
              "      <td>-0.024609</td>\n",
              "      <td>0.967112</td>\n",
              "    </tr>\n",
              "    <tr>\n",
              "      <th>rain intensity</th>\n",
              "      <td>-0.005517</td>\n",
              "      <td>0.449248</td>\n",
              "    </tr>\n",
              "    <tr>\n",
              "      <th>rain duration</th>\n",
              "      <td>-0.012829</td>\n",
              "      <td>0.475564</td>\n",
              "    </tr>\n",
              "    <tr>\n",
              "      <th>wind speed</th>\n",
              "      <td>-0.064279</td>\n",
              "      <td>0.141067</td>\n",
              "    </tr>\n",
              "    <tr>\n",
              "      <th>wind direction (radians)</th>\n",
              "      <td>0.247983</td>\n",
              "      <td>-0.257226</td>\n",
              "    </tr>\n",
              "  </tbody>\n",
              "</table>\n",
              "</div>"
            ],
            "text/plain": [
              "                           Factor1   Factor2\n",
              "water pH 1                0.119985 -0.021944\n",
              "water pH 2                0.044566  0.000270\n",
              "ground water level 1      0.799025 -0.094661\n",
              "ground water level 2     -0.044711  0.022975\n",
              "soil moisture 1           0.975765 -0.099547\n",
              "soil moisture 2           0.987725 -0.085610\n",
              "soil moisture 3           0.993876 -0.086575\n",
              "motor monitor 1           0.155475  0.133223\n",
              "motor monitor 2           0.052529 -0.083869\n",
              "salinity I               -0.041657  0.030068\n",
              "salinity E                0.101357 -0.130272\n",
              "air RH I                  0.103788 -0.033804\n",
              "air RH E                 -0.041323  0.001375\n",
              "air temp I                0.033716 -0.124489\n",
              "air temp E               -0.142752  0.004564\n",
              "wall RH 1 I               0.887812  0.014285\n",
              "wall RH 2 I               0.863680 -0.062129\n",
              "wall RH 3 I              -0.028089  0.107985\n",
              "wall RH 1 E               0.507402  0.828640\n",
              "wall RH 2 E               0.515331  0.827161\n",
              "wall RH 3 E              -0.024609  0.967112\n",
              "rain intensity           -0.005517  0.449248\n",
              "rain duration            -0.012829  0.475564\n",
              "wind speed               -0.064279  0.141067\n",
              "wind direction (radians)  0.247983 -0.257226"
            ]
          },
          "metadata": {
            "tags": []
          },
          "execution_count": 31
        }
      ]
    },
    {
      "cell_type": "markdown",
      "metadata": {
        "id": "y1ylue-xy25x",
        "colab_type": "text"
      },
      "source": [
        "## Translating this into something we can understand a bit better"
      ]
    },
    {
      "cell_type": "code",
      "metadata": {
        "id": "jXtE5F5VaLvW",
        "colab_type": "code",
        "outputId": "48e97d98-1567-4202-907a-be2f5b4ecbc7",
        "cellView": "code",
        "colab": {
          "base_uri": "https://localhost:8080/",
          "height": 71
        }
      },
      "source": [
        "\n",
        "L = np.array(fa.loadings)\n",
        "headings = list( fa.loadings.transpose().keys() )\n",
        "factor_threshold = 0.25\n",
        "for i, factor in enumerate(L.transpose()):\n",
        "  descending = np.argsort(np.abs(factor))[::-1]\n",
        "  contributions = [(np.round(factor[x],2),headings[x]) for x in descending if np.abs(factor[x])>factor_threshold]\n",
        "  print('Factor %d:'%(i+1),contributions)"
      ],
      "execution_count": 33,
      "outputs": [
        {
          "output_type": "stream",
          "text": [
            "Factor 1: [(0.99, 'soil moisture 3'), (0.99, 'soil moisture 2'), (0.98, 'soil moisture 1'), (0.89, 'wall RH 1 I'), (0.86, 'wall RH 2 I'), (0.8, 'ground water level 1'), (0.52, 'wall RH 2 E'), (0.51, 'wall RH 1 E')]\n",
            "Factor 2: [(0.97, 'wall RH 3 E'), (0.83, 'wall RH 1 E'), (0.83, 'wall RH 2 E'), (0.48, 'rain duration'), (0.45, 'rain intensity'), (-0.26, 'wind direction (radians)')]\n"
          ],
          "name": "stdout"
        }
      ]
    },
    {
      "cell_type": "markdown",
      "metadata": {
        "id": "4LMjFfoJxaDZ",
        "colab_type": "text"
      },
      "source": [
        "**So what does this mean?**"
      ]
    },
    {
      "cell_type": "markdown",
      "metadata": {
        "id": "U2ubfqwlXkym",
        "colab_type": "text"
      },
      "source": [
        "## Solution\n",
        "\n",
        "\n"
      ]
    },
    {
      "cell_type": "markdown",
      "metadata": {
        "id": "hMuZ2xQJxXdO",
        "colab_type": "text"
      },
      "source": [
        "Factor 1 has high factor loadings for soil moisture, RH interior and exterior up to a certain height, as well as ground water only for the first sensor.\n",
        "\n",
        "\n",
        "\n",
        "Factor 2 has high factor loadings for only external RH values all the way up and down the wall as well as rain duration, intensity, and wind direciton."
      ]
    },
    {
      "cell_type": "markdown",
      "metadata": {
        "id": "RgwoZseOxQ_n",
        "colab_type": "text"
      },
      "source": [
        "# Computing the variance"
      ]
    },
    {
      "cell_type": "code",
      "metadata": {
        "id": "wGC0sDVcXthY",
        "colab_type": "code",
        "cellView": "both",
        "colab": {
          "base_uri": "https://localhost:8080/",
          "height": 142
        },
        "outputId": "45cc89de-6194-4f3f-c5fb-77654f9f1411"
      },
      "source": [
        "# Get variance of each factors\n",
        "fa.get_factor_variance()"
      ],
      "execution_count": 34,
      "outputs": [
        {
          "output_type": "execute_result",
          "data": {
            "text/html": [
              "<div>\n",
              "<style scoped>\n",
              "    .dataframe tbody tr th:only-of-type {\n",
              "        vertical-align: middle;\n",
              "    }\n",
              "\n",
              "    .dataframe tbody tr th {\n",
              "        vertical-align: top;\n",
              "    }\n",
              "\n",
              "    .dataframe thead th {\n",
              "        text-align: right;\n",
              "    }\n",
              "</style>\n",
              "<table border=\"1\" class=\"dataframe\">\n",
              "  <thead>\n",
              "    <tr style=\"text-align: right;\">\n",
              "      <th></th>\n",
              "      <th>Factor1</th>\n",
              "      <th>Factor2</th>\n",
              "    </tr>\n",
              "  </thead>\n",
              "  <tbody>\n",
              "    <tr>\n",
              "      <th>SS Loadings</th>\n",
              "      <td>5.769659</td>\n",
              "      <td>2.929944</td>\n",
              "    </tr>\n",
              "    <tr>\n",
              "      <th>Proportion Var</th>\n",
              "      <td>0.230786</td>\n",
              "      <td>0.117198</td>\n",
              "    </tr>\n",
              "    <tr>\n",
              "      <th>Cumulative Var</th>\n",
              "      <td>0.230786</td>\n",
              "      <td>0.347984</td>\n",
              "    </tr>\n",
              "  </tbody>\n",
              "</table>\n",
              "</div>"
            ],
            "text/plain": [
              "                 Factor1   Factor2\n",
              "SS Loadings     5.769659  2.929944\n",
              "Proportion Var  0.230786  0.117198\n",
              "Cumulative Var  0.230786  0.347984"
            ]
          },
          "metadata": {
            "tags": []
          },
          "execution_count": 34
        }
      ]
    },
    {
      "cell_type": "markdown",
      "metadata": {
        "id": "0Qn7XAVxXyFS",
        "colab_type": "text"
      },
      "source": [
        "Total 35% cumulative Variance explained by the 2 factors."
      ]
    },
    {
      "cell_type": "markdown",
      "metadata": {
        "id": "AenH31yxX3E5",
        "colab_type": "text"
      },
      "source": [
        "**Pros and Cons of Factor Analysis**\n",
        "\n",
        "Factor analysis explores large dataset and finds interlinked associations. It reduces the observed variables into a few unobserved variables or identifies the groups of inter-related variables, which help the market researchers to compress the market situations and find the hidden relationship among consumer taste, preference, and cultural influence. Also, It helps in improve questionnaire in for future surveys. Factors make for more natural data interpretation.\n",
        "\n",
        "Results of factor analysis are controversial. Its interpretations can be debatable because more than one interpretation can be made of the same data factors. After factor identification and naming of factors requires domain knowledge."
      ]
    }
  ]
}