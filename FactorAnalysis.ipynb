{
  "nbformat": 4,
  "nbformat_minor": 0,
  "metadata": {
    "colab": {
      "name": "FactorAnalysis.ipynb",
      "provenance": [],
      "collapsed_sections": [],
      "toc_visible": true,
      "include_colab_link": true
    },
    "kernelspec": {
      "name": "python3",
      "display_name": "Python 3"
    }
  },
  "cells": [
    {
      "cell_type": "markdown",
      "metadata": {
        "id": "view-in-github",
        "colab_type": "text"
      },
      "source": [
        "<a href=\"https://colab.research.google.com/github/rkn2/factorAnalysisExample/blob/master/FactorAnalysis.ipynb\" target=\"_parent\"><img src=\"https://colab.research.google.com/assets/colab-badge.svg\" alt=\"Open In Colab\"/></a>"
      ]
    },
    {
      "cell_type": "markdown",
      "metadata": {
        "id": "60YyXAwxgeo6",
        "colab_type": "text"
      },
      "source": [
        "# Background on the problem\n"
      ]
    },
    {
      "cell_type": "markdown",
      "metadata": {
        "id": "QZkl03-xlDMc",
        "colab_type": "text"
      },
      "source": [
        "A wall in a building next to a river is deteriorating. What is causing it?\n",
        "\n",
        "Below find an image of how the wall is situated in the building, where doors are, and where current sensors are located. \n",
        "\n",
        "**Your job is to look at the data coming from the sensors, and figure out what they are telling you.**"
      ]
    },
    {
      "cell_type": "markdown",
      "metadata": {
        "id": "sXxYuxEzgk5T",
        "colab_type": "text"
      },
      "source": [
        "![alt text](https://drive.google.com/uc?id=1TWhPuLFF7pNcXlycMDmdDWlFxWQJq3DQ)\n",
        "\n"
      ]
    },
    {
      "cell_type": "markdown",
      "metadata": {
        "id": "nYeZzHCmllHU",
        "colab_type": "text"
      },
      "source": [
        "# Looking at our data\n"
      ]
    },
    {
      "cell_type": "markdown",
      "metadata": {
        "id": "bANTW6kuUClT",
        "colab_type": "text"
      },
      "source": [
        "This step just installs any packages we will need to run the analysis code. You don't have to worry about any specifics here."
      ]
    },
    {
      "cell_type": "code",
      "metadata": {
        "id": "tP4cR7ZrSuLc",
        "colab_type": "code",
        "colab": {}
      },
      "source": [
        "# Import required libraries\n",
        "import pandas as pd\n",
        "from sklearn.datasets import load_iris\n",
        "#!pip install factor_analyzer\n",
        "!pip install factor_analyzer==0.2.3\n",
        "from factor_analyzer import FactorAnalyzer\n",
        "import matplotlib.pyplot as plt\n",
        "import numpy as np\n",
        "\n",
        "\n",
        "!pip install -U -q PyDrive\n",
        "from pydrive.auth import GoogleAuth\n",
        "from pydrive.drive import GoogleDrive\n",
        "from google.colab import auth\n",
        "from oauth2client.client import GoogleCredentials\n",
        "# Authenticate and create the PyDrive client.\n",
        "auth.authenticate_user()\n",
        "gauth = GoogleAuth()\n",
        "gauth.credentials = GoogleCredentials.get_application_default()\n",
        "drive = GoogleDrive(gauth)"
      ],
      "execution_count": 0,
      "outputs": []
    },
    {
      "cell_type": "markdown",
      "metadata": {
        "id": "i5os7BeoT8zV",
        "colab_type": "text"
      },
      "source": [
        "Now we will load the data. This line reads in the comma separated value sheet that I made in excel.\n",
        "\n",
        "If you are given sensor data in excel and want to export it to csv in the future, see this link:\n",
        "https://www.ablebits.com/office-addins-blog/2014/04/24/convert-excel-csv/"
      ]
    },
    {
      "cell_type": "code",
      "metadata": {
        "colab_type": "code",
        "id": "kX8bxB9mpiYp",
        "colab": {}
      },
      "source": [
        "url = 'https://raw.githubusercontent.com/rkn2/factorAnalysisExample/master/testDataSmall.csv'\n",
        "df = pd.read_csv(url)\n",
        "#df= pd.read_csv(\"testDataSmall.csv\")"
      ],
      "execution_count": 0,
      "outputs": []
    },
    {
      "cell_type": "markdown",
      "metadata": {
        "id": "ed6U4YqqVfvn",
        "colab_type": "text"
      },
      "source": [
        "Now we can start to process our data"
      ]
    },
    {
      "cell_type": "code",
      "metadata": {
        "id": "cbE21AiDU_5L",
        "colab_type": "code",
        "colab": {}
      },
      "source": [
        "#index columns\n",
        "df.columns\n",
        "\n",
        "#drop unnecessary columns\n",
        "df.drop(['corSet', 'notCor', 'true ground water', 'wind driven rain'],axis=1,inplace=True)\n",
        "\n",
        "#drop any missing value rows\n",
        "df.dropna(inplace=True)\n",
        "\n",
        "#view information if you want\n",
        "df.info()\n",
        "#df.head()\n"
      ],
      "execution_count": 0,
      "outputs": []
    },
    {
      "cell_type": "markdown",
      "metadata": {
        "id": "dDVz8CyFWwh5",
        "colab_type": "text"
      },
      "source": [
        "Factor analysis code based on: https://www.datacamp.com/community/tutorials/introduction-factor-analysis"
      ]
    },
    {
      "cell_type": "markdown",
      "metadata": {
        "id": "NrqV1ZNGWIc7",
        "colab_type": "text"
      },
      "source": [
        "**check to make sure factor analysis makes sense**\n",
        "\n",
        "1) bartlett's test checks whether the data is statistically significant by checking whether or not the observed variabels intercorrelate at all using the observed correlation matrix against the identity matrix. if the test is found statistically insignificant, you should not use factor analyiss. "
      ]
    },
    {
      "cell_type": "code",
      "metadata": {
        "id": "aXtTewA1WHwR",
        "colab_type": "code",
        "colab": {}
      },
      "source": [
        "from factor_analyzer.factor_analyzer import calculate_bartlett_sphericity\n",
        "chi_square_value,p_value=calculate_bartlett_sphericity(df)\n",
        "chi_square_value, p_value"
      ],
      "execution_count": 0,
      "outputs": []
    },
    {
      "cell_type": "markdown",
      "metadata": {
        "id": "HdtI64_7WuSW",
        "colab_type": "text"
      },
      "source": [
        "In this Bartlett ’s test, the p-value is 0. The test was statistically significant, indicating that the observed correlation matrix is not an identity matrix."
      ]
    },
    {
      "cell_type": "markdown",
      "metadata": {
        "id": "jOOzLoLEWohJ",
        "colab_type": "text"
      },
      "source": [
        "\n",
        "2) Kaiser-Meyer-Olkin (KMO) Test measures the suitability of data for factor analysis. It determines the adequacy for each observed variable and for the complete model. KMO estimates the proportion of variance among all the observed variable. Lower proportion id more suitable for factor analysis. KMO values range between 0 and 1. Value of KMO less than 0.6 is considered inadequate."
      ]
    },
    {
      "cell_type": "code",
      "metadata": {
        "id": "gJbu2WwCXBa0",
        "colab_type": "code",
        "colab": {}
      },
      "source": [
        "from factor_analyzer.factor_analyzer import calculate_kmo\n",
        "kmo_all,kmo_model=calculate_kmo(df)\n",
        "\n",
        "kmo_model"
      ],
      "execution_count": 0,
      "outputs": []
    },
    {
      "cell_type": "markdown",
      "metadata": {
        "id": "ZK-I2yJrXEgB",
        "colab_type": "text"
      },
      "source": [
        "The overall KMO for our data is 0.79, which is excellent. This value indicates that you can proceed with your planned factor analysis."
      ]
    },
    {
      "cell_type": "markdown",
      "metadata": {
        "id": "mtR0FtQGXHRA",
        "colab_type": "text"
      },
      "source": [
        "Now we need to choose the number of factors. For this, we can use the Kaiser criterion and scree plot. Both are based on eigen values. "
      ]
    },
    {
      "cell_type": "code",
      "metadata": {
        "id": "Z6zPLCYTXNgL",
        "colab_type": "code",
        "colab": {}
      },
      "source": [
        "# Create factor analysis object and perform factor analysis\n",
        "fa = FactorAnalyzer()\n",
        "fa.analyze(df, 21, rotation=None)\n",
        "# Check Eigenvalues\n",
        "ev, v = fa.get_eigenvalues()\n",
        "ev"
      ],
      "execution_count": 0,
      "outputs": []
    },
    {
      "cell_type": "markdown",
      "metadata": {
        "id": "AYqhbUM5XQLR",
        "colab_type": "text"
      },
      "source": [
        "Here, you can see only for 6-factors eigenvalues are greater than one. It means we need to choose only 6 factors (or unobserved variables)."
      ]
    },
    {
      "cell_type": "code",
      "metadata": {
        "id": "8EcInPmvXS4E",
        "colab_type": "code",
        "colab": {}
      },
      "source": [
        "# Create scree plot using matplotlib\n",
        "plt.scatter(range(1,df.shape[1]+1),ev)\n",
        "plt.plot(range(1,df.shape[1]+1),ev)\n",
        "plt.title('Scree Plot')\n",
        "plt.xlabel('Factors')\n",
        "plt.ylabel('Eigenvalue')\n",
        "plt.grid()\n",
        "plt.show()"
      ],
      "execution_count": 0,
      "outputs": []
    },
    {
      "cell_type": "markdown",
      "metadata": {
        "id": "9AmVXMkJXTdi",
        "colab_type": "text"
      },
      "source": [
        "The scree plot method draws a straight line for each factor and its eigenvalues. Number eigenvalues greater than one considered as the number of factors.\n",
        "\n",
        "Here, you can see only for 6-factors eigenvalues are greater than one. It means we need to choose only 6 factors (or unobserved variables).\n",
        "\n",
        "However something we can additionally, see is that after the first two, there really isnt a diffence in the eigen values. So really only the first two are significant. Therefore we will only choose two factors."
      ]
    },
    {
      "cell_type": "markdown",
      "metadata": {
        "id": "Vbpb3sQNXeDq",
        "colab_type": "text"
      },
      "source": [
        "**Perform factor analysis**"
      ]
    },
    {
      "cell_type": "code",
      "metadata": {
        "id": "es4vNDC1XYdW",
        "colab_type": "code",
        "colab": {}
      },
      "source": [
        "# Create factor analysis object and perform factor analysis\n",
        "fa = FactorAnalyzer()\n",
        "numFactors = 2\n",
        "fa.analyze(df, numFactors, rotation=\"varimax\")\n",
        "fa.loadings"
      ],
      "execution_count": 0,
      "outputs": []
    },
    {
      "cell_type": "code",
      "metadata": {
        "id": "jXtE5F5VaLvW",
        "colab_type": "code",
        "colab": {}
      },
      "source": [
        "L = np.array(fa.loadings)\n",
        "headings = list( fa.loadings.transpose().keys() )\n",
        "factor_threshold = 0.25\n",
        "for i, factor in enumerate(L.transpose()):\n",
        "  descending = np.argsort(np.abs(factor))[::-1]\n",
        "  contributions = [(np.round(factor[x],2),headings[x]) for x in descending if np.abs(factor[x])>factor_threshold]\n",
        "  print('Factor %d:'%(i+1),contributions)"
      ],
      "execution_count": 0,
      "outputs": []
    },
    {
      "cell_type": "markdown",
      "metadata": {
        "id": "U2ubfqwlXkym",
        "colab_type": "text"
      },
      "source": [
        "Factor 1 has high factor loadings for soil moisture, RH interior and exterior up to a certain height, as well as ground water only for the first sensor.\n",
        "\n",
        "Factor 2 has high factor loadings for only external RH values all the way up and down the wall as well as rain duration, intensity, and wind direciton.\n"
      ]
    },
    {
      "cell_type": "code",
      "metadata": {
        "id": "wGC0sDVcXthY",
        "colab_type": "code",
        "colab": {}
      },
      "source": [
        "# Get variance of each factors\n",
        "fa.get_factor_variance()"
      ],
      "execution_count": 0,
      "outputs": []
    },
    {
      "cell_type": "markdown",
      "metadata": {
        "id": "0Qn7XAVxXyFS",
        "colab_type": "text"
      },
      "source": [
        "Total 41% cumulative Variance explained by the 5 factors."
      ]
    },
    {
      "cell_type": "markdown",
      "metadata": {
        "id": "AenH31yxX3E5",
        "colab_type": "text"
      },
      "source": [
        "**Pros and Cons of Factor Analysis**\n",
        "\n",
        "Factor analysis explores large dataset and finds interlinked associations. It reduces the observed variables into a few unobserved variables or identifies the groups of inter-related variables, which help the market researchers to compress the market situations and find the hidden relationship among consumer taste, preference, and cultural influence. Also, It helps in improve questionnaire in for future surveys. Factors make for more natural data interpretation.\n",
        "\n",
        "Results of factor analysis are controversial. Its interpretations can be debatable because more than one interpretation can be made of the same data factors. After factor identification and naming of factors requires domain knowledge."
      ]
    }
  ]
}