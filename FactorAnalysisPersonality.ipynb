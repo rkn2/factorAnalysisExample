{
  "nbformat": 4,
  "nbformat_minor": 0,
  "metadata": {
    "colab": {
      "name": "FactorAnalysisPersonality.ipynb",
      "provenance": [],
      "toc_visible": true,
      "include_colab_link": true
    },
    "kernelspec": {
      "name": "python3",
      "display_name": "Python 3"
    }
  },
  "cells": [
    {
      "cell_type": "markdown",
      "metadata": {
        "id": "view-in-github",
        "colab_type": "text"
      },
      "source": [
        "<a href=\"https://colab.research.google.com/github/rkn2/factorAnalysisExample/blob/master/FactorAnalysisPersonality.ipynb\" target=\"_parent\"><img src=\"https://colab.research.google.com/assets/colab-badge.svg\" alt=\"Open In Colab\"/></a>"
      ]
    },
    {
      "cell_type": "markdown",
      "metadata": {
        "id": "qTHBjB_hPxZ1",
        "colab_type": "text"
      },
      "source": [
        "# Background on the data"
      ]
    },
    {
      "cell_type": "markdown",
      "metadata": {
        "id": "814cvzSKQBjL",
        "colab_type": "text"
      },
      "source": [
        "A personality test is given to a large group of people. There are 5 questions which deal with agreeableness (A1-5), 5 questions which deal with conscientiousness (C1-5), 5 questions which deal with Extraversion(E1-5), 5 questions which deal with Neuroticism (N1-5) and 5 questions which deal with Openness (O1-5). \n",
        "\n",
        "Those answers are directly related with one another.\n",
        "\n",
        "We want to see if based on people's answers, we can regroup those categories.\n",
        "If we can, we will end up with 5 factors and each factor will be influenced by the questions which correspond to it. \n",
        "\n"
      ]
    },
    {
      "cell_type": "markdown",
      "metadata": {
        "id": "nYeZzHCmllHU",
        "colab_type": "text"
      },
      "source": [
        "# Pre-processing our data\n"
      ]
    },
    {
      "cell_type": "markdown",
      "metadata": {
        "id": "dkYopb1bx4G7",
        "colab_type": "text"
      },
      "source": [
        "## Loading the data"
      ]
    },
    {
      "cell_type": "markdown",
      "metadata": {
        "id": "bANTW6kuUClT",
        "colab_type": "text"
      },
      "source": [
        "This step just installs any packages we will need to run the analysis code. You don't have to worry about any specifics here."
      ]
    },
    {
      "cell_type": "code",
      "metadata": {
        "id": "tP4cR7ZrSuLc",
        "colab_type": "code",
        "outputId": "611e1c92-4bc6-4193-d21b-5b717b8bf307",
        "colab": {
          "base_uri": "https://localhost:8080/",
          "height": 207
        }
      },
      "source": [
        "# Import required libraries\n",
        "import pandas as pd\n",
        "from sklearn.datasets import load_iris\n",
        "#!pip install factor_analyzer\n",
        "!pip install factor_analyzer==0.2.3\n",
        "from factor_analyzer import FactorAnalyzer\n",
        "import matplotlib.pyplot as plt\n",
        "import numpy as np\n",
        "\n",
        "\n",
        "!pip install -U -q PyDrive\n",
        "from pydrive.auth import GoogleAuth\n",
        "from pydrive.drive import GoogleDrive\n",
        "from google.colab import auth\n",
        "from oauth2client.client import GoogleCredentials\n",
        "# Authenticate and create the PyDrive client.\n",
        "auth.authenticate_user()\n",
        "gauth = GoogleAuth()\n",
        "gauth.credentials = GoogleCredentials.get_application_default()\n",
        "drive = GoogleDrive(gauth)"
      ],
      "execution_count": 2,
      "outputs": [
        {
          "output_type": "stream",
          "text": [
            "Collecting factor_analyzer==0.2.3\n",
            "  Downloading https://files.pythonhosted.org/packages/79/1b/84808bbeee0f3a8753c3d8034baf0aa0013cf08957eff750f366ce83f04a/factor_analyzer-0.2.3-py2.py3-none-any.whl\n",
            "Requirement already satisfied: numpy in /usr/local/lib/python3.6/dist-packages (from factor_analyzer==0.2.3) (1.16.5)\n",
            "Requirement already satisfied: pandas in /usr/local/lib/python3.6/dist-packages (from factor_analyzer==0.2.3) (0.24.2)\n",
            "Requirement already satisfied: scipy in /usr/local/lib/python3.6/dist-packages (from factor_analyzer==0.2.3) (1.3.1)\n",
            "Requirement already satisfied: pytz>=2011k in /usr/local/lib/python3.6/dist-packages (from pandas->factor_analyzer==0.2.3) (2018.9)\n",
            "Requirement already satisfied: python-dateutil>=2.5.0 in /usr/local/lib/python3.6/dist-packages (from pandas->factor_analyzer==0.2.3) (2.5.3)\n",
            "Requirement already satisfied: six>=1.5 in /usr/local/lib/python3.6/dist-packages (from python-dateutil>=2.5.0->pandas->factor_analyzer==0.2.3) (1.12.0)\n",
            "Installing collected packages: factor-analyzer\n",
            "Successfully installed factor-analyzer-0.2.3\n"
          ],
          "name": "stdout"
        }
      ]
    },
    {
      "cell_type": "markdown",
      "metadata": {
        "id": "i5os7BeoT8zV",
        "colab_type": "text"
      },
      "source": [
        "Now we will load the data. This line reads in the comma separated value sheet.\n",
        "\n",
        "If you are given sensor data in excel and want to export it to csv in the future, see this link:\n",
        "https://www.ablebits.com/office-addins-blog/2014/04/24/convert-excel-csv/"
      ]
    },
    {
      "cell_type": "code",
      "metadata": {
        "colab_type": "code",
        "id": "kX8bxB9mpiYp",
        "colab": {}
      },
      "source": [
        "#url = 'https://raw.githubusercontent.com/rkn2/factorAnalysisExample/master/testDataSmall.csv' #you can change this link depending on your data\n",
        "url = 'https://raw.githubusercontent.com/rkn2/factorAnalysisExample/master/bfi%20(1).csv'\n",
        "df = pd.read_csv(url)\n",
        "#df= pd.read_csv(\"testDataSmall.csv\") # you can also just upload data using the interface on the left and use this reader here."
      ],
      "execution_count": 0,
      "outputs": []
    },
    {
      "cell_type": "markdown",
      "metadata": {
        "id": "r_MFE9oIs5KZ",
        "colab_type": "text"
      },
      "source": [
        "## Cleaning the data"
      ]
    },
    {
      "cell_type": "markdown",
      "metadata": {
        "id": "ed6U4YqqVfvn",
        "colab_type": "text"
      },
      "source": [
        "Now we can start to process our data and remove any columns we don't want. We don't need the 'true ground water' 'wind driven rain' 'corSet', or 'notCor' columns since those were only needed to generate the synthetic data.\n",
        "\n",
        "Additionally, we want to remove anywhere that there is missing data."
      ]
    },
    {
      "cell_type": "code",
      "metadata": {
        "id": "cbE21AiDU_5L",
        "colab_type": "code",
        "outputId": "2a0c7e8c-e5f4-4a9e-f4ba-12ef316d9f9e",
        "colab": {
          "base_uri": "https://localhost:8080/",
          "height": 544
        }
      },
      "source": [
        "#index columns\n",
        "df.columns\n",
        "\n",
        "#drop unnecessary columns\n",
        "unnecessaryColumns = ['gender','age','education']#this list is the only thing you would need to change\n",
        "#unnecessaryColumns = ['corSet', 'notCor', 'true ground water', 'wind driven rain'] #this list is the only thing you would need to change\n",
        "df.drop(unnecessaryColumns,axis=1,inplace=True) \n",
        "\n",
        "#drop any missing value rows\n",
        "df.dropna(inplace=True)\n",
        "\n",
        "#view information if you want\n",
        "df.info()\n",
        "#df.head()\n",
        "\n",
        "#calcualte the number of variables\n",
        "numVars = df.shape[1]-len(unnecessaryColumns)\n"
      ],
      "execution_count": 5,
      "outputs": [
        {
          "output_type": "stream",
          "text": [
            "<class 'pandas.core.frame.DataFrame'>\n",
            "Int64Index: 2436 entries, 0 to 2799\n",
            "Data columns (total 26 columns):\n",
            "Unnamed: 0    2436 non-null int64\n",
            "A1            2436 non-null float64\n",
            "A2            2436 non-null float64\n",
            "A3            2436 non-null float64\n",
            "A4            2436 non-null float64\n",
            "A5            2436 non-null float64\n",
            "C1            2436 non-null float64\n",
            "C2            2436 non-null float64\n",
            "C3            2436 non-null float64\n",
            "C4            2436 non-null float64\n",
            "C5            2436 non-null float64\n",
            "E1            2436 non-null float64\n",
            "E2            2436 non-null float64\n",
            "E3            2436 non-null float64\n",
            "E4            2436 non-null float64\n",
            "E5            2436 non-null float64\n",
            "N1            2436 non-null float64\n",
            "N2            2436 non-null float64\n",
            "N3            2436 non-null float64\n",
            "N4            2436 non-null float64\n",
            "N5            2436 non-null float64\n",
            "O1            2436 non-null float64\n",
            "O2            2436 non-null int64\n",
            "O3            2436 non-null float64\n",
            "O4            2436 non-null float64\n",
            "O5            2436 non-null float64\n",
            "dtypes: float64(24), int64(2)\n",
            "memory usage: 513.8 KB\n"
          ],
          "name": "stdout"
        }
      ]
    },
    {
      "cell_type": "markdown",
      "metadata": {
        "id": "gn7I2_5StNZ1",
        "colab_type": "text"
      },
      "source": [
        "# Check that factor analysis applies\n"
      ]
    },
    {
      "cell_type": "markdown",
      "metadata": {
        "id": "dDVz8CyFWwh5",
        "colab_type": "text"
      },
      "source": [
        "Factor analysis code based on: https://www.datacamp.com/community/tutorials/introduction-factor-analysis"
      ]
    },
    {
      "cell_type": "markdown",
      "metadata": {
        "id": "fPO4G7tHyBbg",
        "colab_type": "text"
      },
      "source": [
        "## Bartlett's test"
      ]
    },
    {
      "cell_type": "markdown",
      "metadata": {
        "id": "NrqV1ZNGWIc7",
        "colab_type": "text"
      },
      "source": [
        "\n",
        "\n",
        "The first way we can do this is using *bartlett's test* which checks whether the data is *statistically significant* by checking whether or not the observed variabels intercorrelate at all using the observed correlation matrix against the identity matrix. If the test is found statistically insignificant, you should not use factor analysis. "
      ]
    },
    {
      "cell_type": "code",
      "metadata": {
        "id": "aXtTewA1WHwR",
        "colab_type": "code",
        "outputId": "3b7b6a91-717d-4ad4-e23b-2ee1316d3bb4",
        "colab": {
          "base_uri": "https://localhost:8080/",
          "height": 34
        }
      },
      "source": [
        "#this is not something you need to change\n",
        "from factor_analyzer.factor_analyzer import calculate_bartlett_sphericity\n",
        "chi_square_value,p_value=calculate_bartlett_sphericity(df)\n",
        "chi_square_value, p_value"
      ],
      "execution_count": 6,
      "outputs": [
        {
          "output_type": "execute_result",
          "data": {
            "text/plain": [
              "(18184.306307820552, 0.0)"
            ]
          },
          "metadata": {
            "tags": []
          },
          "execution_count": 6
        }
      ]
    },
    {
      "cell_type": "markdown",
      "metadata": {
        "id": "HdtI64_7WuSW",
        "colab_type": "text"
      },
      "source": [
        "In this Bartlett ’s test, the p-value is 0. The test was statistically significant, indicating that the observed correlation matrix is not an identity matrix."
      ]
    },
    {
      "cell_type": "markdown",
      "metadata": {
        "id": "p0IHvEg4yE9V",
        "colab_type": "text"
      },
      "source": [
        "## Kaiser-Meyer-Olkin test"
      ]
    },
    {
      "cell_type": "markdown",
      "metadata": {
        "id": "jOOzLoLEWohJ",
        "colab_type": "text"
      },
      "source": [
        "The second step we can do is the *Kaiser-Meyer-Olkin (KMO*) Test which measures the *suitability of data for factor analysis*. It determines the adequacy for each observed variable and for the complete model. KMO estimates the proportion of variance among all the observed variable. Lower proportion id more suitable for factor analysis. KMO values range between 0 and 1. Value of KMO less than 0.6 is considered inadequate."
      ]
    },
    {
      "cell_type": "code",
      "metadata": {
        "id": "gJbu2WwCXBa0",
        "colab_type": "code",
        "outputId": "17522ec2-a2c3-4a8c-cb99-97e23c603420",
        "colab": {
          "base_uri": "https://localhost:8080/",
          "height": 34
        }
      },
      "source": [
        "#this is not something you need to change\n",
        "from factor_analyzer.factor_analyzer import calculate_kmo\n",
        "kmo_all,kmo_model=calculate_kmo(df)\n",
        "\n",
        "kmo_model"
      ],
      "execution_count": 7,
      "outputs": [
        {
          "output_type": "execute_result",
          "data": {
            "text/plain": [
              "0.8483267027192358"
            ]
          },
          "metadata": {
            "tags": []
          },
          "execution_count": 7
        }
      ]
    },
    {
      "cell_type": "markdown",
      "metadata": {
        "id": "ZK-I2yJrXEgB",
        "colab_type": "text"
      },
      "source": [
        "The overall KMO for our data is 0.85, which is excellent. This value indicates that you can proceed with your planned factor analysis."
      ]
    },
    {
      "cell_type": "markdown",
      "metadata": {
        "id": "QmEB220wyL85",
        "colab_type": "text"
      },
      "source": [
        "# Applying factor analysis"
      ]
    },
    {
      "cell_type": "markdown",
      "metadata": {
        "id": "KuLv3yjyyPWr",
        "colab_type": "text"
      },
      "source": [
        "## Choosing the number of factors"
      ]
    },
    {
      "cell_type": "markdown",
      "metadata": {
        "id": "mtR0FtQGXHRA",
        "colab_type": "text"
      },
      "source": [
        "Now we need to choose the number of factors. For this, we can use the Kaiser criterion and scree plot. Both are based on eigen values. "
      ]
    },
    {
      "cell_type": "code",
      "metadata": {
        "id": "Z6zPLCYTXNgL",
        "colab_type": "code",
        "outputId": "37c538c0-50ca-4b5d-b43d-177486fd110f",
        "colab": {
          "base_uri": "https://localhost:8080/",
          "height": 855
        }
      },
      "source": [
        "# Create factor analysis object and perform factor analysis\n",
        "fa = FactorAnalyzer()\n",
        "fa.analyze(df, numVars, rotation=None) \n",
        "# Check Eigenvalues\n",
        "ev, v = fa.get_eigenvalues()\n",
        "ev"
      ],
      "execution_count": 8,
      "outputs": [
        {
          "output_type": "execute_result",
          "data": {
            "text/html": [
              "<div>\n",
              "<style scoped>\n",
              "    .dataframe tbody tr th:only-of-type {\n",
              "        vertical-align: middle;\n",
              "    }\n",
              "\n",
              "    .dataframe tbody tr th {\n",
              "        vertical-align: top;\n",
              "    }\n",
              "\n",
              "    .dataframe thead th {\n",
              "        text-align: right;\n",
              "    }\n",
              "</style>\n",
              "<table border=\"1\" class=\"dataframe\">\n",
              "  <thead>\n",
              "    <tr style=\"text-align: right;\">\n",
              "      <th></th>\n",
              "      <th>Original_Eigenvalues</th>\n",
              "    </tr>\n",
              "  </thead>\n",
              "  <tbody>\n",
              "    <tr>\n",
              "      <th>0</th>\n",
              "      <td>5.134580</td>\n",
              "    </tr>\n",
              "    <tr>\n",
              "      <th>1</th>\n",
              "      <td>2.753375</td>\n",
              "    </tr>\n",
              "    <tr>\n",
              "      <th>2</th>\n",
              "      <td>2.148142</td>\n",
              "    </tr>\n",
              "    <tr>\n",
              "      <th>3</th>\n",
              "      <td>1.852506</td>\n",
              "    </tr>\n",
              "    <tr>\n",
              "      <th>4</th>\n",
              "      <td>1.548463</td>\n",
              "    </tr>\n",
              "    <tr>\n",
              "      <th>5</th>\n",
              "      <td>1.110662</td>\n",
              "    </tr>\n",
              "    <tr>\n",
              "      <th>6</th>\n",
              "      <td>0.980677</td>\n",
              "    </tr>\n",
              "    <tr>\n",
              "      <th>7</th>\n",
              "      <td>0.824309</td>\n",
              "    </tr>\n",
              "    <tr>\n",
              "      <th>8</th>\n",
              "      <td>0.795162</td>\n",
              "    </tr>\n",
              "    <tr>\n",
              "      <th>9</th>\n",
              "      <td>0.718290</td>\n",
              "    </tr>\n",
              "    <tr>\n",
              "      <th>10</th>\n",
              "      <td>0.686026</td>\n",
              "    </tr>\n",
              "    <tr>\n",
              "      <th>11</th>\n",
              "      <td>0.676149</td>\n",
              "    </tr>\n",
              "    <tr>\n",
              "      <th>12</th>\n",
              "      <td>0.651776</td>\n",
              "    </tr>\n",
              "    <tr>\n",
              "      <th>13</th>\n",
              "      <td>0.622974</td>\n",
              "    </tr>\n",
              "    <tr>\n",
              "      <th>14</th>\n",
              "      <td>0.596231</td>\n",
              "    </tr>\n",
              "    <tr>\n",
              "      <th>15</th>\n",
              "      <td>0.562446</td>\n",
              "    </tr>\n",
              "    <tr>\n",
              "      <th>16</th>\n",
              "      <td>0.543299</td>\n",
              "    </tr>\n",
              "    <tr>\n",
              "      <th>17</th>\n",
              "      <td>0.514340</td>\n",
              "    </tr>\n",
              "    <tr>\n",
              "      <th>18</th>\n",
              "      <td>0.494372</td>\n",
              "    </tr>\n",
              "    <tr>\n",
              "      <th>19</th>\n",
              "      <td>0.482639</td>\n",
              "    </tr>\n",
              "    <tr>\n",
              "      <th>20</th>\n",
              "      <td>0.448655</td>\n",
              "    </tr>\n",
              "    <tr>\n",
              "      <th>21</th>\n",
              "      <td>0.422806</td>\n",
              "    </tr>\n",
              "    <tr>\n",
              "      <th>22</th>\n",
              "      <td>0.400285</td>\n",
              "    </tr>\n",
              "    <tr>\n",
              "      <th>23</th>\n",
              "      <td>0.387738</td>\n",
              "    </tr>\n",
              "    <tr>\n",
              "      <th>24</th>\n",
              "      <td>0.381837</td>\n",
              "    </tr>\n",
              "    <tr>\n",
              "      <th>25</th>\n",
              "      <td>0.262263</td>\n",
              "    </tr>\n",
              "  </tbody>\n",
              "</table>\n",
              "</div>"
            ],
            "text/plain": [
              "    Original_Eigenvalues\n",
              "0               5.134580\n",
              "1               2.753375\n",
              "2               2.148142\n",
              "3               1.852506\n",
              "4               1.548463\n",
              "5               1.110662\n",
              "6               0.980677\n",
              "7               0.824309\n",
              "8               0.795162\n",
              "9               0.718290\n",
              "10              0.686026\n",
              "11              0.676149\n",
              "12              0.651776\n",
              "13              0.622974\n",
              "14              0.596231\n",
              "15              0.562446\n",
              "16              0.543299\n",
              "17              0.514340\n",
              "18              0.494372\n",
              "19              0.482639\n",
              "20              0.448655\n",
              "21              0.422806\n",
              "22              0.400285\n",
              "23              0.387738\n",
              "24              0.381837\n",
              "25              0.262263"
            ]
          },
          "metadata": {
            "tags": []
          },
          "execution_count": 8
        }
      ]
    },
    {
      "cell_type": "markdown",
      "metadata": {
        "id": "AYqhbUM5XQLR",
        "colab_type": "text"
      },
      "source": [
        "Here, you can see only for 6-factors eigenvalues are greater than one. It means we need to choose only 6 factors (or unobserved variables). But this is only a first step metric, next we can generate a Scree plot to see which of those 6 are really distinct from the pack."
      ]
    },
    {
      "cell_type": "code",
      "metadata": {
        "id": "8EcInPmvXS4E",
        "colab_type": "code",
        "outputId": "6589d02c-5353-457b-a17b-c79dd90408d2",
        "colab": {
          "base_uri": "https://localhost:8080/",
          "height": 295
        }
      },
      "source": [
        "# Create scree plot using matplotlib\n",
        "plt.scatter(range(1,df.shape[1]+1),ev)\n",
        "plt.plot(range(1,df.shape[1]+1),ev)\n",
        "plt.title('Scree Plot')\n",
        "plt.xlabel('Factors')\n",
        "plt.ylabel('Eigenvalue')\n",
        "plt.grid()\n",
        "plt.show()"
      ],
      "execution_count": 9,
      "outputs": [
        {
          "output_type": "display_data",
          "data": {
            "image/png": "[encoded data removed]",
            "text/plain": [
              "<Figure size 432x288 with 1 Axes>"
            ]
          },
          "metadata": {
            "tags": []
          }
        }
      ]
    },
    {
      "cell_type": "markdown",
      "metadata": {
        "id": "9AmVXMkJXTdi",
        "colab_type": "text"
      },
      "source": [
        "The scree plot method draws a straight line for each factor and its eigenvalues. Number eigenvalues greater than one considered as the number of factors.\n",
        "\n",
        "Here, you can see again 6-factors eigenvalues are greater than one. It means we need to choose only 6 factors (or unobserved variables).\n",
        "\n",
        "However something we can additionally, see is that after the first 5, there really isnt a diffence in the eigenvalues. So really only the first two are significant. Therefore we will only choose **5 factors**."
      ]
    },
    {
      "cell_type": "markdown",
      "metadata": {
        "id": "rP0mIgpSyt6j",
        "colab_type": "text"
      },
      "source": [
        "## Running factor analysis\n",
        "\n"
      ]
    },
    {
      "cell_type": "code",
      "metadata": {
        "id": "es4vNDC1XYdW",
        "colab_type": "code",
        "outputId": "c5735c87-1ad2-4027-ead4-1dfeed33b5a4",
        "colab": {
          "base_uri": "https://localhost:8080/",
          "height": 855
        }
      },
      "source": [
        "# Create factor analysis object and perform factor analysis\n",
        "fa = FactorAnalyzer()\n",
        "numFactors = 5 # this will vary based on what you saw above\n",
        "fa.analyze(df, numFactors, rotation=\"varimax\")\n",
        "fa.loadings"
      ],
      "execution_count": 10,
      "outputs": [
        {
          "output_type": "execute_result",
          "data": {
            "text/html": [
              "<div>\n",
              "<style scoped>\n",
              "    .dataframe tbody tr th:only-of-type {\n",
              "        vertical-align: middle;\n",
              "    }\n",
              "\n",
              "    .dataframe tbody tr th {\n",
              "        vertical-align: top;\n",
              "    }\n",
              "\n",
              "    .dataframe thead th {\n",
              "        text-align: right;\n",
              "    }\n",
              "</style>\n",
              "<table border=\"1\" class=\"dataframe\">\n",
              "  <thead>\n",
              "    <tr style=\"text-align: right;\">\n",
              "      <th></th>\n",
              "      <th>Factor1</th>\n",
              "      <th>Factor2</th>\n",
              "      <th>Factor3</th>\n",
              "      <th>Factor4</th>\n",
              "      <th>Factor5</th>\n",
              "    </tr>\n",
              "  </thead>\n",
              "  <tbody>\n",
              "    <tr>\n",
              "      <th>Unnamed: 0</th>\n",
              "      <td>-0.061703</td>\n",
              "      <td>-0.019246</td>\n",
              "      <td>0.034865</td>\n",
              "      <td>0.014345</td>\n",
              "      <td>-0.018678</td>\n",
              "    </tr>\n",
              "    <tr>\n",
              "      <th>A1</th>\n",
              "      <td>0.030705</td>\n",
              "      <td>0.106455</td>\n",
              "      <td>0.027567</td>\n",
              "      <td>-0.074133</td>\n",
              "      <td>-0.429612</td>\n",
              "    </tr>\n",
              "    <tr>\n",
              "      <th>A2</th>\n",
              "      <td>0.227127</td>\n",
              "      <td>0.028693</td>\n",
              "      <td>0.141159</td>\n",
              "      <td>0.064117</td>\n",
              "      <td>0.621801</td>\n",
              "    </tr>\n",
              "    <tr>\n",
              "      <th>A3</th>\n",
              "      <td>0.329927</td>\n",
              "      <td>0.005335</td>\n",
              "      <td>0.115928</td>\n",
              "      <td>0.061647</td>\n",
              "      <td>0.642856</td>\n",
              "    </tr>\n",
              "    <tr>\n",
              "      <th>A4</th>\n",
              "      <td>0.209217</td>\n",
              "      <td>-0.069443</td>\n",
              "      <td>0.235418</td>\n",
              "      <td>-0.108647</td>\n",
              "      <td>0.431241</td>\n",
              "    </tr>\n",
              "    <tr>\n",
              "      <th>A5</th>\n",
              "      <td>0.397690</td>\n",
              "      <td>-0.129002</td>\n",
              "      <td>0.097901</td>\n",
              "      <td>0.075363</td>\n",
              "      <td>0.528159</td>\n",
              "    </tr>\n",
              "    <tr>\n",
              "      <th>C1</th>\n",
              "      <td>0.048297</td>\n",
              "      <td>0.009548</td>\n",
              "      <td>0.548276</td>\n",
              "      <td>0.212169</td>\n",
              "      <td>0.041194</td>\n",
              "    </tr>\n",
              "    <tr>\n",
              "      <th>C2</th>\n",
              "      <td>0.014459</td>\n",
              "      <td>0.089975</td>\n",
              "      <td>0.650304</td>\n",
              "      <td>0.116582</td>\n",
              "      <td>0.105693</td>\n",
              "    </tr>\n",
              "    <tr>\n",
              "      <th>C3</th>\n",
              "      <td>0.010825</td>\n",
              "      <td>-0.030243</td>\n",
              "      <td>0.555781</td>\n",
              "      <td>-0.004812</td>\n",
              "      <td>0.114165</td>\n",
              "    </tr>\n",
              "    <tr>\n",
              "      <th>C4</th>\n",
              "      <td>-0.039326</td>\n",
              "      <td>0.240794</td>\n",
              "      <td>-0.633576</td>\n",
              "      <td>-0.109695</td>\n",
              "      <td>-0.041462</td>\n",
              "    </tr>\n",
              "    <tr>\n",
              "      <th>C5</th>\n",
              "      <td>-0.154179</td>\n",
              "      <td>0.294330</td>\n",
              "      <td>-0.566991</td>\n",
              "      <td>0.031264</td>\n",
              "      <td>-0.047858</td>\n",
              "    </tr>\n",
              "    <tr>\n",
              "      <th>E1</th>\n",
              "      <td>-0.576460</td>\n",
              "      <td>0.057066</td>\n",
              "      <td>0.017182</td>\n",
              "      <td>-0.073218</td>\n",
              "      <td>-0.089660</td>\n",
              "    </tr>\n",
              "    <tr>\n",
              "      <th>E2</th>\n",
              "      <td>-0.671561</td>\n",
              "      <td>0.261661</td>\n",
              "      <td>-0.121490</td>\n",
              "      <td>-0.059680</td>\n",
              "      <td>-0.096788</td>\n",
              "    </tr>\n",
              "    <tr>\n",
              "      <th>E3</th>\n",
              "      <td>0.533056</td>\n",
              "      <td>0.012417</td>\n",
              "      <td>0.097624</td>\n",
              "      <td>0.293883</td>\n",
              "      <td>0.245741</td>\n",
              "    </tr>\n",
              "    <tr>\n",
              "      <th>E4</th>\n",
              "      <td>0.648750</td>\n",
              "      <td>-0.131026</td>\n",
              "      <td>0.120495</td>\n",
              "      <td>-0.056985</td>\n",
              "      <td>0.290069</td>\n",
              "    </tr>\n",
              "    <tr>\n",
              "      <th>E5</th>\n",
              "      <td>0.492534</td>\n",
              "      <td>0.024327</td>\n",
              "      <td>0.326639</td>\n",
              "      <td>0.226538</td>\n",
              "      <td>0.079579</td>\n",
              "    </tr>\n",
              "    <tr>\n",
              "      <th>N1</th>\n",
              "      <td>0.097680</td>\n",
              "      <td>0.782726</td>\n",
              "      <td>-0.042388</td>\n",
              "      <td>-0.083471</td>\n",
              "      <td>-0.225060</td>\n",
              "    </tr>\n",
              "    <tr>\n",
              "      <th>N2</th>\n",
              "      <td>0.044935</td>\n",
              "      <td>0.752420</td>\n",
              "      <td>-0.029547</td>\n",
              "      <td>-0.010945</td>\n",
              "      <td>-0.200539</td>\n",
              "    </tr>\n",
              "    <tr>\n",
              "      <th>N3</th>\n",
              "      <td>-0.041066</td>\n",
              "      <td>0.732571</td>\n",
              "      <td>-0.068349</td>\n",
              "      <td>-0.007284</td>\n",
              "      <td>-0.031849</td>\n",
              "    </tr>\n",
              "    <tr>\n",
              "      <th>N4</th>\n",
              "      <td>-0.326102</td>\n",
              "      <td>0.599635</td>\n",
              "      <td>-0.188999</td>\n",
              "      <td>0.064659</td>\n",
              "      <td>0.010191</td>\n",
              "    </tr>\n",
              "    <tr>\n",
              "      <th>N5</th>\n",
              "      <td>-0.139326</td>\n",
              "      <td>0.542043</td>\n",
              "      <td>-0.042065</td>\n",
              "      <td>-0.155653</td>\n",
              "      <td>0.100229</td>\n",
              "    </tr>\n",
              "    <tr>\n",
              "      <th>O1</th>\n",
              "      <td>0.196463</td>\n",
              "      <td>-0.006094</td>\n",
              "      <td>0.120863</td>\n",
              "      <td>0.510642</td>\n",
              "      <td>0.059573</td>\n",
              "    </tr>\n",
              "    <tr>\n",
              "      <th>O2</th>\n",
              "      <td>0.026762</td>\n",
              "      <td>0.174735</td>\n",
              "      <td>-0.099129</td>\n",
              "      <td>-0.469638</td>\n",
              "      <td>0.077368</td>\n",
              "    </tr>\n",
              "    <tr>\n",
              "      <th>O3</th>\n",
              "      <td>0.296243</td>\n",
              "      <td>0.021106</td>\n",
              "      <td>0.084710</td>\n",
              "      <td>0.603572</td>\n",
              "      <td>0.122369</td>\n",
              "    </tr>\n",
              "    <tr>\n",
              "      <th>O4</th>\n",
              "      <td>-0.189289</td>\n",
              "      <td>0.227826</td>\n",
              "      <td>-0.029353</td>\n",
              "      <td>0.362255</td>\n",
              "      <td>0.160787</td>\n",
              "    </tr>\n",
              "    <tr>\n",
              "      <th>O5</th>\n",
              "      <td>0.011590</td>\n",
              "      <td>0.083619</td>\n",
              "      <td>-0.061357</td>\n",
              "      <td>-0.533401</td>\n",
              "      <td>-0.013974</td>\n",
              "    </tr>\n",
              "  </tbody>\n",
              "</table>\n",
              "</div>"
            ],
            "text/plain": [
              "             Factor1   Factor2   Factor3   Factor4   Factor5\n",
              "Unnamed: 0 -0.061703 -0.019246  0.034865  0.014345 -0.018678\n",
              "A1          0.030705  0.106455  0.027567 -0.074133 -0.429612\n",
              "A2          0.227127  0.028693  0.141159  0.064117  0.621801\n",
              "A3          0.329927  0.005335  0.115928  0.061647  0.642856\n",
              "A4          0.209217 -0.069443  0.235418 -0.108647  0.431241\n",
              "A5          0.397690 -0.129002  0.097901  0.075363  0.528159\n",
              "C1          0.048297  0.009548  0.548276  0.212169  0.041194\n",
              "C2          0.014459  0.089975  0.650304  0.116582  0.105693\n",
              "C3          0.010825 -0.030243  0.555781 -0.004812  0.114165\n",
              "C4         -0.039326  0.240794 -0.633576 -0.109695 -0.041462\n",
              "C5         -0.154179  0.294330 -0.566991  0.031264 -0.047858\n",
              "E1         -0.576460  0.057066  0.017182 -0.073218 -0.089660\n",
              "E2         -0.671561  0.261661 -0.121490 -0.059680 -0.096788\n",
              "E3          0.533056  0.012417  0.097624  0.293883  0.245741\n",
              "E4          0.648750 -0.131026  0.120495 -0.056985  0.290069\n",
              "E5          0.492534  0.024327  0.326639  0.226538  0.079579\n",
              "N1          0.097680  0.782726 -0.042388 -0.083471 -0.225060\n",
              "N2          0.044935  0.752420 -0.029547 -0.010945 -0.200539\n",
              "N3         -0.041066  0.732571 -0.068349 -0.007284 -0.031849\n",
              "N4         -0.326102  0.599635 -0.188999  0.064659  0.010191\n",
              "N5         -0.139326  0.542043 -0.042065 -0.155653  0.100229\n",
              "O1          0.196463 -0.006094  0.120863  0.510642  0.059573\n",
              "O2          0.026762  0.174735 -0.099129 -0.469638  0.077368\n",
              "O3          0.296243  0.021106  0.084710  0.603572  0.122369\n",
              "O4         -0.189289  0.227826 -0.029353  0.362255  0.160787\n",
              "O5          0.011590  0.083619 -0.061357 -0.533401 -0.013974"
            ]
          },
          "metadata": {
            "tags": []
          },
          "execution_count": 10
        }
      ]
    },
    {
      "cell_type": "markdown",
      "metadata": {
        "id": "y1ylue-xy25x",
        "colab_type": "text"
      },
      "source": [
        "## Translating this into something we can understand a bit better"
      ]
    },
    {
      "cell_type": "code",
      "metadata": {
        "id": "jXtE5F5VaLvW",
        "colab_type": "code",
        "outputId": "5ebab41d-9386-42c6-de90-0ed765640d62",
        "cellView": "code",
        "colab": {
          "base_uri": "https://localhost:8080/",
          "height": 122
        }
      },
      "source": [
        "\n",
        "L = np.array(fa.loadings)\n",
        "headings = list( fa.loadings.transpose().keys() )\n",
        "factor_threshold = 0.25\n",
        "for i, factor in enumerate(L.transpose()):\n",
        "  descending = np.argsort(np.abs(factor))[::-1]\n",
        "  contributions = [(np.round(factor[x],2),headings[x]) for x in descending if np.abs(factor[x])>factor_threshold]\n",
        "  print('Factor %d:'%(i+1),contributions)"
      ],
      "execution_count": 13,
      "outputs": [
        {
          "output_type": "stream",
          "text": [
            "Factor 1: [(-0.67, 'E2'), (0.65, 'E4'), (-0.58, 'E1'), (0.53, 'E3'), (0.49, 'E5'), (0.4, 'A5'), (0.33, 'A3'), (-0.33, 'N4'), (0.3, 'O3')]\n",
            "Factor 2: [(0.78, 'N1'), (0.75, 'N2'), (0.73, 'N3'), (0.6, 'N4'), (0.54, 'N5'), (0.29, 'C5'), (0.26, 'E2')]\n",
            "Factor 3: [(0.65, 'C2'), (-0.63, 'C4'), (-0.57, 'C5'), (0.56, 'C3'), (0.55, 'C1'), (0.33, 'E5')]\n",
            "Factor 4: [(0.6, 'O3'), (-0.53, 'O5'), (0.51, 'O1'), (-0.47, 'O2'), (0.36, 'O4'), (0.29, 'E3')]\n",
            "Factor 5: [(0.64, 'A3'), (0.62, 'A2'), (0.53, 'A5'), (0.43, 'A4'), (-0.43, 'A1'), (0.29, 'E4')]\n"
          ],
          "name": "stdout"
        }
      ]
    },
    {
      "cell_type": "markdown",
      "metadata": {
        "id": "4LMjFfoJxaDZ",
        "colab_type": "text"
      },
      "source": [
        "**So what does this mean?**"
      ]
    },
    {
      "cell_type": "markdown",
      "metadata": {
        "id": "U2ubfqwlXkym",
        "colab_type": "text"
      },
      "source": [
        "## Solution\n",
        "\n",
        "\n"
      ]
    },
    {
      "cell_type": "markdown",
      "metadata": {
        "id": "hMuZ2xQJxXdO",
        "colab_type": "text"
      },
      "source": [
        "Factor 1 is mostly influenced by the questions about extrovertedness (E); some parts of agreeableness, openness, and nueroticism, influence this, but it is mostly E. These were the original E questions.\n",
        "\n",
        "Factor 2 is mostly influenced by neuroticism (N), but smoe parts of extrovertedness and conscientiousness play a role. These were the original N questions.\n",
        "\n",
        "Factor 3 is mostly influenced by conscientiousness, but extrovertedness can play a role.\n",
        "These were the original C questions.\n",
        "\n",
        "Factor 4 is mostly influenced by openness but extrovertedness plays a role.\n",
        "These were the original O questions.\n",
        "\n",
        "Factor 5 is mostly influenced by agreeableness but extrovertedness plays a role.\n",
        "These were the original A questions.\n",
        "\n",
        "In summary, we were able to extract the original groupings however it was interesting to note the role that E plays in all of the questions. This could suggest that there is some bias or systematic error at play. "
      ]
    },
    {
      "cell_type": "markdown",
      "metadata": {
        "id": "RgwoZseOxQ_n",
        "colab_type": "text"
      },
      "source": [
        "# Computing the variance"
      ]
    },
    {
      "cell_type": "code",
      "metadata": {
        "id": "bxzTgYfzRvsp",
        "colab_type": "code",
        "colab": {}
      },
      "source": [
        ""
      ],
      "execution_count": 0,
      "outputs": []
    },
    {
      "cell_type": "code",
      "metadata": {
        "id": "wGC0sDVcXthY",
        "colab_type": "code",
        "cellView": "both",
        "outputId": "b8b24f66-0a6b-485d-83b6-f3308611ddc0",
        "colab": {
          "base_uri": "https://localhost:8080/",
          "height": 142
        }
      },
      "source": [
        "# Get variance of each factors\n",
        "fa.get_factor_variance()"
      ],
      "execution_count": 0,
      "outputs": [
        {
          "output_type": "execute_result",
          "data": {
            "text/html": [
              "<div>\n",
              "<style scoped>\n",
              "    .dataframe tbody tr th:only-of-type {\n",
              "        vertical-align: middle;\n",
              "    }\n",
              "\n",
              "    .dataframe tbody tr th {\n",
              "        vertical-align: top;\n",
              "    }\n",
              "\n",
              "    .dataframe thead th {\n",
              "        text-align: right;\n",
              "    }\n",
              "</style>\n",
              "<table border=\"1\" class=\"dataframe\">\n",
              "  <thead>\n",
              "    <tr style=\"text-align: right;\">\n",
              "      <th></th>\n",
              "      <th>Factor1</th>\n",
              "      <th>Factor2</th>\n",
              "      <th>Factor3</th>\n",
              "      <th>Factor4</th>\n",
              "      <th>Factor5</th>\n",
              "    </tr>\n",
              "  </thead>\n",
              "  <tbody>\n",
              "    <tr>\n",
              "      <th>SS Loadings</th>\n",
              "      <td>2.428049</td>\n",
              "      <td>2.736109</td>\n",
              "      <td>2.082504</td>\n",
              "      <td>1.549502</td>\n",
              "      <td>1.800505</td>\n",
              "    </tr>\n",
              "    <tr>\n",
              "      <th>Proportion Var</th>\n",
              "      <td>0.093387</td>\n",
              "      <td>0.105235</td>\n",
              "      <td>0.080096</td>\n",
              "      <td>0.059596</td>\n",
              "      <td>0.069250</td>\n",
              "    </tr>\n",
              "    <tr>\n",
              "      <th>Cumulative Var</th>\n",
              "      <td>0.093387</td>\n",
              "      <td>0.198621</td>\n",
              "      <td>0.278718</td>\n",
              "      <td>0.338314</td>\n",
              "      <td>0.407564</td>\n",
              "    </tr>\n",
              "  </tbody>\n",
              "</table>\n",
              "</div>"
            ],
            "text/plain": [
              "                 Factor1   Factor2   Factor3   Factor4   Factor5\n",
              "SS Loadings     2.428049  2.736109  2.082504  1.549502  1.800505\n",
              "Proportion Var  0.093387  0.105235  0.080096  0.059596  0.069250\n",
              "Cumulative Var  0.093387  0.198621  0.278718  0.338314  0.407564"
            ]
          },
          "metadata": {
            "tags": []
          },
          "execution_count": 10
        }
      ]
    },
    {
      "cell_type": "markdown",
      "metadata": {
        "id": "0Qn7XAVxXyFS",
        "colab_type": "text"
      },
      "source": [
        "Total 41% cumulative Variance explained by the 2 factors."
      ]
    },
    {
      "cell_type": "markdown",
      "metadata": {
        "id": "AenH31yxX3E5",
        "colab_type": "text"
      },
      "source": [
        "**Pros and Cons of Factor Analysis**\n",
        "\n",
        "Factor analysis explores large dataset and finds interlinked associations. It reduces the observed variables into a few unobserved variables or identifies the groups of inter-related variables, which help the market researchers to compress the market situations and find the hidden relationship among consumer taste, preference, and cultural influence. Also, It helps in improve questionnaire in for future surveys. Factors make for more natural data interpretation.\n",
        "\n",
        "Results of factor analysis are controversial. Its interpretations can be debatable because more than one interpretation can be made of the same data factors. After factor identification and naming of factors requires domain knowledge."
      ]
    }
  ]
}